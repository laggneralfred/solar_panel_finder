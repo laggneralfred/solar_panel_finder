{
  "nbformat": 4,
  "nbformat_minor": 0,
  "metadata": {
    "colab": {
      "provenance": []
    },
    "kernelspec": {
      "name": "python3",
      "display_name": "Python 3"
    },
    "language_info": {
      "name": "python"
    }
  },
  "cells": [
    {
      "cell_type": "code",
      "source": [
        "# Import necessary libraries\n",
        "from fastai.vision.all import *\n",
        "from fastai.vision.widgets import *\n",
        "\n",
        "# Load the trained model\n",
        "path = Path('.')\n",
        "learn_inf = load_learner(path/'export.pkl')\n",
        "\n",
        "# Create upload button for images\n",
        "btn_upload = FileUpload()\n",
        "\n",
        "# Create an output widget for displaying uploaded images\n",
        "out_pl = Output()\n",
        "\n",
        "# Create a label for the predictions\n",
        "lbl_pred = Label()\n",
        "\n",
        "# Create a button to classify uploaded images\n",
        "btn_run = Button(description='Classify')\n",
        "\n",
        "# Enhanced event handler function with error handling\n",
        "from io import BytesIO\n",
        "\n",
        "def on_click_classify(change):\n",
        "    lbl_pred.value = ''  # Clear previous prediction message\n",
        "\n",
        "    # Ensure there's an uploaded file to process\n",
        "    if not btn_upload.value:\n",
        "        lbl_pred.value = 'Please upload an image.'\n",
        "        return\n",
        "\n",
        "    # Accessing the uploaded file content\n",
        "    uploaded_file = next(iter(btn_upload.value.values()))\n",
        "    img_content = uploaded_file['content']\n",
        "\n",
        "    # Creating a PILImage from the binary content\n",
        "    img = PILImage.create(BytesIO(img_content))\n",
        "\n",
        "    # Displaying the uploaded image\n",
        "    out_pl.clear_output()\n",
        "    with out_pl: display(img.to_thumb(128,128))\n",
        "\n",
        "    # Making a prediction\n",
        "    pred, pred_idx, probs = learn_inf.predict(img)\n",
        "    lbl_pred.value = f'Prediction: {pred}; Probability: {probs[pred_idx]:.04f}'\n",
        "\n",
        "# Attach the event to the 'Classify' button\n",
        "btn_run.on_click(on_click_classify)\n",
        "\n",
        "# Arrange widgets in a vertical box\n",
        "widgets = VBox([Label('Select your panel!'),\n",
        "                btn_upload,\n",
        "                btn_run,\n",
        "                out_pl,\n",
        "                lbl_pred])\n",
        "\n",
        "# Display the widgets\n",
        "display(widgets)\n"
      ],
      "metadata": {
        "id": "lTJaCMVqP7XO"
      },
      "execution_count": null,
      "outputs": []
    }
  ]
}